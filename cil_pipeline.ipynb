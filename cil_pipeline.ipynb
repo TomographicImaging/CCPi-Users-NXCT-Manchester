{
 "cells": [
  {
   "cell_type": "markdown",
   "metadata": {},
   "source": [
    "##### Load dependencies"
   ]
  },
  {
   "cell_type": "code",
   "execution_count": null,
   "metadata": {},
   "outputs": [],
   "source": [
    "import numpy as np\n",
    "import matplotlib.pyplot as plt\n",
    "import glob\n",
    "import os\n",
    "from pathlib import Path\n",
    "\n",
    "import ipywidgets as widgets\n",
    "from ipywidgets import VBox\n",
    "from ipywidgets import HBox, Label\n",
    "from IPython.display import display, clear_output\n",
    "\n",
    "from cil.framework import DataContainer #,AcquisitionData\n",
    "from cil.utilities.display import show_geometry, show2D\n",
    "from cil.utilities.jupyter import islicer\n",
    "from cil.io import NikonDataReader, TIFFWriter\n",
    "from cil.processors import TransmissionAbsorptionConverter, CentreOfRotationCorrector, RingRemover\n",
    "from cil.recon import FDK\n",
    "from cil.optimisation.algorithms import CGLS, FISTA\n",
    "from cil.optimisation.functions import LeastSquares, L2NormSquared#, ZeroFunction, \n",
    "from cil.optimisation.functions import TotalVariation\n",
    "from cil.optimisation.utilities import callbacks"
   ]
  },
  {
   "cell_type": "markdown",
   "metadata": {},
   "source": [
    "##### Load the data"
   ]
  },
  {
   "cell_type": "markdown",
   "metadata": {},
   "source": [
    "Specify the parent directory and list the scans"
   ]
  },
  {
   "cell_type": "code",
   "execution_count": null,
   "metadata": {},
   "outputs": [],
   "source": [
    "# Specify the parent directory\n",
    "parent_directory = \"data\"\n",
    "\n",
    "# Make sure the directory exists\n",
    "if not os.path.isdir(parent_directory):\n",
    "    raise IOError(parent_directory + \" is not a directory.\")\n",
    "    \n",
    "# list the scans in the directory\n",
    "files = glob.glob(os.path.join(parent_directory, '*.xtekct'))\n",
    "\n",
    "# Make sure the directory contains a single xtekct file\n",
    "if len(files) == 0:\n",
    "    raise IOError(parent_directory + \" is a directory but it does not contain any xtekct file.\")\n",
    "\n",
    "if len(files) > 1:\n",
    "    print(\"WARNING:\", parent_directory + \" is a directory but it contains several xtekct files. The first one\", files[0], \"will be used by default.\")\n",
    "\n",
    "\n",
    "for i, file in enumerate(files):\n",
    "    print(str(i) + ': ' + str(file))"
   ]
  },
  {
   "cell_type": "markdown",
   "metadata": {},
   "source": [
    "choose the number of the file in the files list "
   ]
  },
  {
   "cell_type": "code",
   "execution_count": null,
   "metadata": {},
   "outputs": [],
   "source": [
    "file_menu = widgets.Dropdown(\n",
    "    options=files,\n",
    "    value=files[0],\n",
    "    description='File:',\n",
    "    disabled=False,\n",
    ")\n",
    "file_menu"
   ]
  },
  {
   "cell_type": "code",
   "execution_count": null,
   "metadata": {},
   "outputs": [],
   "source": [
    "filename = file_menu.value"
   ]
  },
  {
   "cell_type": "code",
   "execution_count": null,
   "metadata": {},
   "outputs": [],
   "source": [
    "use_binning_checkbox = widgets.Checkbox(\n",
    "    value=False,\n",
    "    description='Use binning',\n",
    "    disabled=False,\n",
    "    indent=False\n",
    ");\n",
    "\n",
    "binning_xy_slider = widgets.IntSlider(\n",
    "    value=1,\n",
    "    min=1,\n",
    "    max=10,\n",
    "    step=1,\n",
    "    orientation='horizontal',\n",
    "    readout=True,\n",
    "    readout_format='d'\n",
    ");\n",
    "\n",
    "binning_z_slider = widgets.IntSlider(\n",
    "    value=1,\n",
    "    min=1,\n",
    "    max=10,\n",
    "    step=1,\n",
    "    orientation='horizontal',\n",
    "    readout=True,\n",
    "    readout_format='d'\n",
    ");\n",
    "\n",
    "binning_xy_label = Label('Binning along the X- & Y-axes:');\n",
    "\n",
    "binning_z_label = Label('Binning along the Z-axis:');\n",
    "\n",
    "layout = widgets.Layout(width='600px')\n",
    "\n",
    "out_vbox = VBox(children=[\n",
    "        HBox([binning_xy_label, binning_xy_slider]),\n",
    "        HBox([binning_z_label, binning_z_slider]),\n",
    "    ]);\n",
    "\n",
    "if use_binning_checkbox.value == False:\n",
    "    out_vbox.layout.visibility = 'hidden'\n",
    "\n",
    "out = widgets.Output()\n",
    "\n",
    "def on_value_change(change):\n",
    "    with out:\n",
    "        if use_binning_checkbox.value:\n",
    "            out_vbox.layout.visibility = 'visible'\n",
    "            \n",
    "        else:\n",
    "            out_vbox.layout.visibility = 'hidden'\n",
    "\n",
    "        clear_output()\n",
    "        \n",
    "    out_vbox.children=[\n",
    "        HBox([Label('Binning along the X- & Y-axes:'), binning_xy_slider]),\n",
    "        HBox([Label('Binning along the Z-axis:'), binning_z_slider])\n",
    "    ];\n",
    "\n",
    "use_binning_checkbox.observe(on_value_change, names='value')\n",
    "\n",
    "HBox(children=[use_binning_checkbox, out_vbox])"
   ]
  },
  {
   "cell_type": "code",
   "execution_count": null,
   "metadata": {},
   "outputs": [],
   "source": [
    "# Instanciate the reader\n",
    "if use_binning_checkbox:\n",
    "    reader = NikonDataReader(file_name=filename, roi= {'horizontal':(None, None, binning_xy_slider.value),'vertical':(None, None, binning_xy_slider.value),'angle':(None, None, binning_z_slider.value)}, mode=\"bin\");\n",
    "else:\n",
    "    reader = NikonDataReader(file_name=filename);\n",
    "    \n",
    "# Read the data\n",
    "data = reader.read()"
   ]
  },
  {
   "cell_type": "code",
   "execution_count": null,
   "metadata": {},
   "outputs": [],
   "source": [
    "# Inspect the geometry\n",
    "print(data.geometry);"
   ]
  },
  {
   "cell_type": "code",
   "execution_count": null,
   "metadata": {},
   "outputs": [],
   "source": [
    "# Plot and save the geometry\n",
    "fname = os.path.join(parent_directory, \"geometry.png\");\n",
    "show_geometry(data.geometry).save(fname);"
   ]
  },
  {
   "cell_type": "code",
   "execution_count": null,
   "metadata": {},
   "outputs": [],
   "source": [
    "# Inspect the projections\n",
    "islicer(data, direction='angle', origin=\"upper-left\");"
   ]
  },
  {
   "cell_type": "code",
   "execution_count": null,
   "metadata": {},
   "outputs": [],
   "source": [
    "show2D(data, origin=\"upper-left\");"
   ]
  },
  {
   "cell_type": "markdown",
   "metadata": {},
   "source": [
    "##### Normalise using $-\\ln\\left(\\frac{data}{white\\_level}\\right)$"
   ]
  },
  {
   "cell_type": "markdown",
   "metadata": {},
   "source": [
    "##### Transmission to absorption "
   ]
  },
  {
   "cell_type": "markdown",
   "metadata": {},
   "source": [
    "Use the CIL `TransmissionAbsorptionConverter`\n",
    "- If there are negative numbers in the data, specify a low value in `min_intensity` to clip these values before calculating -log"
   ]
  },
  {
   "cell_type": "code",
   "execution_count": null,
   "metadata": {},
   "outputs": [],
   "source": [
    "data_corr = TransmissionAbsorptionConverter(min_intensity=0.00001, white_level=data.max())(data);"
   ]
  },
  {
   "cell_type": "markdown",
   "metadata": {},
   "source": [
    "Plot the sinogram of the centre slice using show2D"
   ]
  },
  {
   "cell_type": "code",
   "execution_count": null,
   "metadata": {},
   "outputs": [],
   "source": [
    "show2D([data, data_corr], slice_list=('vertical', data.shape[2] // 2))"
   ]
  },
  {
   "cell_type": "markdown",
   "metadata": {},
   "source": [
    "##### Get a vertical slice of the data"
   ]
  },
  {
   "cell_type": "markdown",
   "metadata": {},
   "source": [
    "##### Filtered back projection"
   ]
  },
  {
   "cell_type": "markdown",
   "metadata": {},
   "source": [
    "We use the CIL filtered back projection. By default this uses a Ram-Lak"
   ]
  },
  {
   "cell_type": "code",
   "execution_count": null,
   "metadata": {},
   "outputs": [],
   "source": [
    "data_slice = data_corr.get_slice(vertical=\"centre\")"
   ]
  },
  {
   "cell_type": "code",
   "execution_count": null,
   "metadata": {},
   "outputs": [],
   "source": [
    "ig = data_slice.geometry.get_ImageGeometry();\n",
    "recons_FDK_before = FDK(data_slice, ig).run(verbose=False)\n",
    "show2D(recons_FDK_before, origin=\"upper-left\")"
   ]
  },
  {
   "cell_type": "code",
   "execution_count": null,
   "metadata": {},
   "outputs": [],
   "source": [
    "voxel_num_x_slider = widgets.IntSlider(\n",
    "    value=ig.voxel_num_x,\n",
    "    min=1,\n",
    "    max=ig.voxel_num_x,\n",
    "    step=1,\n",
    "    disabled=False,\n",
    "    orientation='horizontal',\n",
    "    readout=True,\n",
    "    readout_format='d'\n",
    ")\n",
    "\n",
    "voxel_num_y_slider = widgets.IntSlider(\n",
    "    value=ig.voxel_num_y,\n",
    "    min=1,\n",
    "    max=ig.voxel_num_y,\n",
    "    step=1,\n",
    "    disabled=False,\n",
    "    orientation='horizontal',\n",
    "    readout=True,\n",
    "    readout_format='d'\n",
    ")\n",
    "\n",
    "voxel_num_z_slider = widgets.IntSlider(\n",
    "    value=data.shape[1],\n",
    "    min=1,\n",
    "    max=data.shape[1],\n",
    "    step=1,\n",
    "    disabled=False,\n",
    "    orientation='horizontal',\n",
    "    readout=True,\n",
    "    readout_format='d'\n",
    ")\n",
    "\n",
    "# Box(children=[voxel_num_x, voxel_num_y, voxel_num_z])\n",
    "VBox(children=[\n",
    "    HBox([Label('Number of voxels along the X-axis:'), voxel_num_x_slider]),\n",
    "    HBox([Label('Number of voxels along the Y-axis:'), voxel_num_y_slider]),\n",
    "    HBox([Label('Number of voxels along the Z-axis:'), voxel_num_z_slider])\n",
    "])"
   ]
  },
  {
   "cell_type": "code",
   "execution_count": null,
   "metadata": {},
   "outputs": [],
   "source": [
    "# Define a ROI to reconstruct the 3 middle slices only\n",
    "ig = data_corr.geometry.get_ImageGeometry();\n",
    "ig.voxel_num_x = voxel_num_x_slider.value\n",
    "ig.voxel_num_y = voxel_num_y_slider.value\n",
    "ig.voxel_num_z = voxel_num_z_slider.value\n",
    "\n",
    "reco_before = FDK(data_corr, ig).run(verbose=False)\n",
    "show2D(reco_before, origin=\"upper-left\")"
   ]
  },
  {
   "cell_type": "code",
   "execution_count": null,
   "metadata": {},
   "outputs": [],
   "source": [
    "islicer(reco_before, origin=\"upper-left\")"
   ]
  },
  {
   "cell_type": "markdown",
   "metadata": {},
   "source": [
    "##### Centre of rotation correction"
   ]
  },
  {
   "cell_type": "markdown",
   "metadata": {},
   "source": [
    "If the data has projections which are 180 degrees apart, uncomment this cell to use the CIL `CentreOfRotationCorrector.xcorrelation` processor to find the centre of rotation offset automatically\n",
    "- Specify a first projection to use for the correlation, and the algorithm will identify the second angle which is 180 degrees from the first - within a specified angular tolerance "
   ]
  },
  {
   "cell_type": "code",
   "execution_count": null,
   "metadata": {},
   "outputs": [],
   "source": [
    "processor = CentreOfRotationCorrector.image_sharpness(slice_index='centre', tolerance=1/125)\n",
    "processor.set_input(data_corr)\n",
    "processor.get_output(out=data_corr)"
   ]
  },
  {
   "cell_type": "code",
   "execution_count": null,
   "metadata": {},
   "outputs": [],
   "source": [
    "recons_FDK = FDK(data_corr, ig).run(verbose=False)\n",
    "show2D([reco_before, recons_FDK, reco_before - recons_FDK],\n",
    "    ['Before centre of rotation correction','After centre of rotation correction','Signed difference'])"
   ]
  },
  {
   "cell_type": "markdown",
   "metadata": {},
   "source": [
    "Print the geometry to see the rotation axis has been changed"
   ]
  },
  {
   "cell_type": "code",
   "execution_count": null,
   "metadata": {},
   "outputs": [],
   "source": [
    "print(data_corr.geometry)"
   ]
  },
  {
   "cell_type": "markdown",
   "metadata": {},
   "source": [
    "Alternatively manually enter a pixel offset."
   ]
  },
  {
   "cell_type": "code",
   "execution_count": null,
   "metadata": {},
   "outputs": [],
   "source": [
    "# pixel_offset = ???\n",
    "# data_corr.geometry.set_centre_of_rotation(pixel_offset, distance_units='pixels')"
   ]
  },
  {
   "cell_type": "code",
   "execution_count": null,
   "metadata": {},
   "outputs": [],
   "source": []
  },
  {
   "cell_type": "code",
   "execution_count": null,
   "metadata": {},
   "outputs": [],
   "source": []
  },
  {
   "cell_type": "code",
   "execution_count": null,
   "metadata": {},
   "outputs": [],
   "source": [
    "from cil.plugins.astra.operators import ProjectionOperator\n",
    "from cil.optimisation.functions import IndicatorBox"
   ]
  },
  {
   "cell_type": "markdown",
   "metadata": {},
   "source": [
    "\n",
    "\n",
    "Next, we create our simulated tomographic data by projecting our noiseless phantom to the acquisition space. Using the image geometry ig and acquisition geometry ag, we define the ProjectionOperator.\n"
   ]
  },
  {
   "cell_type": "code",
   "execution_count": null,
   "metadata": {},
   "outputs": [],
   "source": [
    "# set the backend for FBP and the ProjectionOperator\n",
    "device = 'gpu'"
   ]
  },
  {
   "cell_type": "code",
   "execution_count": null,
   "metadata": {},
   "outputs": [],
   "source": [
    "# Create projection operator using Astra-Toolbox.\n",
    "data_corr.reorder('astra')\n",
    "A = ProjectionOperator(ig, data_corr.geometry, device)"
   ]
  },
  {
   "cell_type": "code",
   "execution_count": null,
   "metadata": {},
   "outputs": [],
   "source": [
    "# initial estimate - zero array in this case \n",
    "initial = ig.allocate(0)\n",
    "\n",
    "# setup CGLS\n",
    "cgls = CGLS(initial=initial, \n",
    "            operator=A, \n",
    "            data=data_corr,\n",
    "            update_objective_interval = 1 )"
   ]
  },
  {
   "cell_type": "code",
   "execution_count": null,
   "metadata": {},
   "outputs": [],
   "source": [
    "cgls_number_of_iteration_slider = widgets.IntSlider(\n",
    "    value=5,\n",
    "    min=1,\n",
    "    max=50,\n",
    "    step=1,\n",
    "    disabled=False,\n",
    "    orientation='horizontal',\n",
    "    readout=True,\n",
    "    readout_format='d'\n",
    ")\n",
    "\n",
    "HBox([Label('Number of iterations (CGLS):'), cgls_number_of_iteration_slider])"
   ]
  },
  {
   "cell_type": "code",
   "execution_count": null,
   "metadata": {},
   "outputs": [],
   "source": [
    "# run N interations\n",
    "cgls.run(cgls_number_of_iteration_slider.value, callbacks=[callbacks.TextProgressCallback()])"
   ]
  },
  {
   "cell_type": "code",
   "execution_count": null,
   "metadata": {},
   "outputs": [],
   "source": [
    "# get and visualise the results\n",
    "recon_CGLS = cgls.solution\n",
    "\n",
    "show2D([recons_FDK, recon_CGLS, reco_before - recons_FDK],\n",
    "    ['FBP', 'CGLS','Signed difference'])"
   ]
  },
  {
   "cell_type": "code",
   "execution_count": null,
   "metadata": {},
   "outputs": [],
   "source": [
    "plt.plot(cgls.objective)\n",
    "plt.gca().set_yscale('log')\n",
    "plt.xlabel('Number of iterations')\n",
    "plt.ylabel('Objective value')\n",
    "plt.grid()"
   ]
  },
  {
   "cell_type": "code",
   "execution_count": null,
   "metadata": {},
   "outputs": [],
   "source": [
    "writer = TIFFWriter()\n",
    "writer.set_up(data = data_slice, file_name='path_to_data/data.tiff') #add data type, cast to float16\n",
    "# writer.write()"
   ]
  },
  {
   "cell_type": "code",
   "execution_count": null,
   "metadata": {},
   "outputs": [],
   "source": [
    "raise UserWarning('Exit Early')"
   ]
  },
  {
   "cell_type": "markdown",
   "metadata": {},
   "source": [
    "\n",
    "Constrained reconstruction\n",
    "\n",
    "Perhaps the most intuitive constraint one can enforce on reconstructed data is the non-negativity constraint. The image data we are reconstructing is the linear attenuation coefficient of the material, so intuitively this cannot have a negative value. Here we employ the SIRT algorithm, an algebraic iterative method for a particular weighted least-squares problem which in addition accepts certain convex constraints such as a non-negativity constraint. As with CGLS, it exhibits semi-convergence, however tends to require more iterations. We enforce box constraints (lower and upper bounds) with the IndicatorBox function.\n"
   ]
  },
  {
   "cell_type": "code",
   "execution_count": null,
   "metadata": {},
   "outputs": [],
   "source": [
    "# constraint = IndicatorBox(lower=0)\n",
    "f = LeastSquares(A, data_corr)\n",
    "# f = L2NormSquared(A, data_corr)\n",
    "\n",
    "alpha = 5.\n",
    "g = alpha * TotalVariation(max_iteration=50, tolerance=0, lower=0)\n",
    "\n",
    "fista = FISTA(initial = initial, f = f, g = g, max_iteration=500, update_objective_interval=1)\n",
    "\n"
   ]
  },
  {
   "cell_type": "code",
   "execution_count": null,
   "metadata": {},
   "outputs": [],
   "source": [
    "fista_number_of_iteration_slider = widgets.IntSlider(\n",
    "    value=250,\n",
    "    min=1,\n",
    "    max=500,\n",
    "    step=1,\n",
    "    disabled=False,\n",
    "    orientation='horizontal',\n",
    "    readout=True,\n",
    "    readout_format='d'\n",
    ")\n",
    "\n",
    "HBox([Label('Number of iterations (FISTA):'), fista_number_of_iteration_slider])"
   ]
  },
  {
   "cell_type": "code",
   "execution_count": null,
   "metadata": {},
   "outputs": [],
   "source": [
    "# run N interations\n",
    "fista.run(fista_number_of_iteration_slider.value, callbacks=[callbacks.TextProgressCallback()])"
   ]
  },
  {
   "cell_type": "code",
   "execution_count": null,
   "metadata": {},
   "outputs": [],
   "source": [
    "plt.plot(fista.objective)\n",
    "plt.gca().set_yscale('log')\n",
    "plt.xlabel('Number of iterations')\n",
    "plt.ylabel('Objective value')\n",
    "plt.grid()"
   ]
  },
  {
   "cell_type": "code",
   "execution_count": null,
   "metadata": {},
   "outputs": [],
   "source": [
    "# get and visualise the results\n",
    "recon_FISTA = fista.solution\n",
    "\n",
    "show2D([recons_FDK, recon_CGLS, recon_FISTA], ['FBP', 'CGLS', 'FISTA'], \\\n",
    "       num_cols=3, size=(15,10), origin='upper-left')"
   ]
  },
  {
   "cell_type": "code",
   "execution_count": null,
   "metadata": {},
   "outputs": [],
   "source": [
    "raise UserWarning('Exit Early')"
   ]
  },
  {
   "cell_type": "code",
   "execution_count": null,
   "metadata": {},
   "outputs": [],
   "source": []
  },
  {
   "cell_type": "code",
   "execution_count": null,
   "metadata": {},
   "outputs": [],
   "source": []
  },
  {
   "cell_type": "code",
   "execution_count": null,
   "metadata": {},
   "outputs": [],
   "source": []
  },
  {
   "cell_type": "code",
   "execution_count": null,
   "metadata": {},
   "outputs": [],
   "source": []
  },
  {
   "cell_type": "markdown",
   "metadata": {},
   "source": [
    "##### Crop the data"
   ]
  },
  {
   "cell_type": "code",
   "execution_count": null,
   "metadata": {},
   "outputs": [],
   "source": [
    "# data_before = data_slice.copy()\n",
    "\n",
    "# processor = Slicer(roi = {'horizontal':(500,2100,1)})\n",
    "# processor.set_input(data_slice)\n",
    "# data_slice = processor.get_output()\n",
    "\n",
    "# show2D([data_before, data_slice], title=['Before cropping', 'After cropping'])\n"
   ]
  },
  {
   "cell_type": "markdown",
   "metadata": {},
   "source": [
    "Compare the reconstruction"
   ]
  },
  {
   "cell_type": "code",
   "execution_count": null,
   "metadata": {},
   "outputs": [],
   "source": [
    "# reco = FBP(data_slice).run(verbose=False)\n",
    "# reco.apply_circular_mask(0.9)\n",
    "\n",
    "# show2D([reco_before.array[1000:1100,1000:1100], reco.array[1000:1100,1000:1100]])"
   ]
  },
  {
   "cell_type": "markdown",
   "metadata": {},
   "source": [
    "Plot a cross-section through the reconstruction"
   ]
  },
  {
   "cell_type": "code",
   "execution_count": null,
   "metadata": {},
   "outputs": [],
   "source": [
    "# plt.plot(reco_before.array[1100,1100:1200])\n",
    "# plt.plot(reco.array[1100,1100:1200])\n",
    "# plt.xlabel('Horizontal x (pixels)')\n",
    "# plt.ylabel('Intensity')\n",
    "# plt.legend(['Before phase retrieval','After phase retrieval'])"
   ]
  },
  {
   "cell_type": "markdown",
   "metadata": {},
   "source": [
    "##### Ring remover"
   ]
  },
  {
   "cell_type": "markdown",
   "metadata": {},
   "source": [
    "Use the CIL ring remover processor to remove rings using a wavelet decomposition method\n",
    "\n",
    "- Increasing sigma increases the frequency of ring artefacts that can be removed\n",
    "- Increasing the number of decompositions  will increase the strength of the ring remover, but too high sigma will distort the profile of the image"
   ]
  },
  {
   "cell_type": "code",
   "execution_count": null,
   "metadata": {},
   "outputs": [],
   "source": [
    "# data_before = data_slice.copy()\n",
    "# reco_before = reco.copy()"
   ]
  },
  {
   "cell_type": "markdown",
   "metadata": {},
   "source": [
    "As above, we can loop through different parameters and view the reconstructions with islicer"
   ]
  },
  {
   "cell_type": "code",
   "execution_count": null,
   "metadata": {},
   "outputs": [],
   "source": [
    "array_list = []\n",
    "array_list.append(reco.array)\n",
    "decNum_list = [1, 10, 50, 100, 500]\n",
    "for d in decNum_list:\n",
    "    processor = RingRemover(decNum = d, wname = \"db35\", sigma = 1.5,  info = True)\n",
    "    processor.set_input(data_corr)\n",
    "    temp_data = processor.get_output()\n",
    "    reco = FDK(temp_data, ig).run(verbose=False)\n",
    "    array_list.append(reco.array[1])"
   ]
  },
  {
   "cell_type": "code",
   "execution_count": null,
   "metadata": {},
   "outputs": [],
   "source": [
    "temp = []\n",
    "\n",
    "for i in range(len(array_list)):\n",
    "    show2D(array_list[i][1])"
   ]
  },
  {
   "cell_type": "code",
   "execution_count": null,
   "metadata": {},
   "outputs": [],
   "source": [
    "DC = DataContainer(np.stack(temp, axis=0), dimension_labels=tuple(['Ring remover decNum']) + reco.geometry.dimension_labels)\n"
   ]
  },
  {
   "cell_type": "markdown",
   "metadata": {},
   "source": [
    "There's a ring visible at (700-1100, 700-1100). Cycle through the slices to see how well it is removed"
   ]
  },
  {
   "cell_type": "code",
   "execution_count": null,
   "metadata": {},
   "outputs": [],
   "source": [
    "islicer(DC, slice_number=0)\n"
   ]
  },
  {
   "cell_type": "markdown",
   "metadata": {},
   "source": [
    "Choose the preferred ring removal method and apply it to the data "
   ]
  },
  {
   "cell_type": "code",
   "execution_count": null,
   "metadata": {},
   "outputs": [],
   "source": [
    "best_snr = 5\n",
    "data_slice = rem.remove_all_stripe(data_before.as_array(), best_snr, 5, 1)\n",
    "data_slice = AcquisitionData(data_slice.astype(np.float32), geometry=data_before.geometry)\n",
    "reco = FBP(data_slice).run(verbose=False)\n",
    "show2D([reco_before.array[700:1000,700:1000], reco.array[700:1000,700:1000]])"
   ]
  },
  {
   "cell_type": "markdown",
   "metadata": {},
   "source": [
    "##### Save the processed data"
   ]
  },
  {
   "cell_type": "markdown",
   "metadata": {},
   "source": [
    "Once we've happy with the reconstruction save the processed data as TIFF"
   ]
  },
  {
   "cell_type": "code",
   "execution_count": null,
   "metadata": {},
   "outputs": [],
   "source": [
    "writer = TIFFWriter()\n",
    "writer.set_up(data = data_slice, file_name='path_to_data/data.tiff') #add data type, cast to float16\n",
    "# writer.write()"
   ]
  }
 ],
 "metadata": {
  "kernelspec": {
   "display_name": "Python 3 (ipykernel)",
   "language": "python",
   "name": "python3"
  },
  "language_info": {
   "codemirror_mode": {
    "name": "ipython",
    "version": 3
   },
   "file_extension": ".py",
   "mimetype": "text/x-python",
   "name": "python",
   "nbconvert_exporter": "python",
   "pygments_lexer": "ipython3",
   "version": "3.10.14"
  }
 },
 "nbformat": 4,
 "nbformat_minor": 4
}
